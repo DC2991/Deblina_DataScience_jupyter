{
 "cells": [
  {
   "cell_type": "markdown",
   "metadata": {},
   "source": [
    "<center>\n",
    "    <img src=\"https://cf-courses-data.s3.us.cloud-object-storage.appdomain.cloud/IBMDeveloperSkillsNetwork-DS0105EN-SkillsNetwork/labs/Module2/images/SN_web_lightmode.png\" width=\"300\" alt=\"cognitiveclass.ai logo\">\n",
    "</center>\n"
   ]
  },
  {
   "cell_type": "markdown",
   "metadata": {},
   "source": [
    "# Author\n",
    "\n",
    "This notebook was created by:  \n",
    "**[Deblina Chowdhury]**  "
   ]
  },
  {
   "cell_type": "markdown",
   "metadata": {},
   "source": [
    "# Objectives\n",
    "\n",
    "The objectives of this notebook are:\n",
    "\n",
    "- Understand basic arithmetic operations in Python.\n",
    "- Explore data science languages and libraries.\n",
    "- Learn how to work with Markdown and code cells in Jupyter.\n",
    "- Practice converting units (e.g., minutes to hours).\n",
    "- Create and format tables using Markdown."
   ]
  },
  {
   "cell_type": "code",
   "execution_count": null,
   "metadata": {},
   "outputs": [],
   "source": [
    "# Convert minutes to hours\n",
    "minutes = 150  # You can change this value\n",
    "hours = minutes / 60\n",
    "\n",
    "print(f\"{minutes} minutes is equal to {hours} hours.\")"
   ]
  },
  {
   "cell_type": "code",
   "execution_count": null,
   "metadata": {},
   "outputs": [],
   "source": [
    "# Multiply two numbers\n",
    "multiplication_result = 6 * 7\n",
    "print(\"Multiplication Result:\", multiplication_result)\n",
    "\n",
    "# Add two numbers\n",
    "addition_result = 6 + 7\n",
    "print(\"Addition Result:\", addition_result)"
   ]
  },
  {
   "cell_type": "markdown",
   "metadata": {},
   "source": [
    "# Introduction to Arithmetic Expressions\n",
    "\n",
    "In this section, we will explore basic arithmetic expressions using Python.  \n",
    "Arithmetic expressions allow us to perform mathematical operations such as:\n",
    "\n",
    "- Addition (`+`)\n",
    "- Subtraction (`-`)\n",
    "- Multiplication (`*`)\n",
    "- Division (`/`)\n",
    "- Exponentiation (`**`)\n",
    "- Modulus (`%`)\n"
   ]
  },
  {
   "cell_type": "markdown",
   "metadata": {},
   "source": [
    "# Data Science Tools\n",
    "\n",
    "| Tool           | Description                                  |\n",
    "|----------------|----------------------------------------------|\n",
    "| Jupyter Notebook | Interactive environment for running code and documentation |\n",
    "| RStudio        | IDE for R programming and statistical computing |\n",
    "| Apache Spark   | Big data processing engine                  |\n",
    "| TensorFlow     | Machine learning and deep learning library  |\n",
    "| Tableau        | Data visualization tool                     |\n",
    "| Power BI       | Business analytics and data visualization platform |\n",
    "| RapidMiner     | Platform for data preparation, machine learning, and deployment |"
   ]
  },
  {
   "cell_type": "markdown",
   "metadata": {},
   "source": [
    "# Popular Data Science Libraries\n",
    "\n",
    "Some of the most commonly used libraries in Data Science are:\n",
    "\n",
    "- **NumPy**: Fundamental package for numerical computations.\n",
    "- **Pandas**: Powerful tools for data manipulation and analysis.\n",
    "- **Matplotlib**: Basic plotting and visualization library.\n",
    "- **Seaborn**: Statistical data visualization built on top of Matplotlib.\n",
    "- **Scikit-learn**: Machine learning library for classical algorithms.\n",
    "- **TensorFlow**: Open-source platform for machine learning and deep learning.\n",
    "- **Keras**: High-level neural networks API, running on top of TensorFlow.\n",
    "- **PyTorch**: Deep learning framework known for flexibility and speed.\n",
    "- **Statsmodels**: For statistical modeling and hypothesis testing.\n",
    "- **XGBoost**: Optimized gradient boosting library."
   ]
  },
  {
   "cell_type": "markdown",
   "metadata": {},
   "source": [
    "# Languages Used in Data Science\n",
    "\n",
    "Here are some of the most popular programming languages used in Data Science:\n",
    "\n",
    "- **Python**: Widely used for machine learning, data analysis, and visualization.\n",
    "- **R**: Excellent for statistical analysis and data visualization.\n",
    "- **SQL**: Essential for database management and data querying.\n",
    "- **Java**: Used for building large-scale data processing systems.\n",
    "- **Julia**: Gaining popularity for high-performance numerical computing.\n",
    "- **Scala**: Often used with Apache Spark for big data processing."
   ]
  },
  {
   "cell_type": "markdown",
   "metadata": {},
   "source": [
    "# Introduction\n",
    "\n",
    "In this notebook, Data Science Tools and Ecosystem are summarized.\n",
    "Let's get started!"
   ]
  },
  {
   "cell_type": "markdown",
   "metadata": {},
   "source": [
    "# Data Science Tools and Ecosystem"
   ]
  },
  {
   "cell_type": "markdown",
   "metadata": {},
   "source": [
    "#### Add your code below following the instructions given in the course\n"
   ]
  },
  {
   "cell_type": "code",
   "execution_count": 1,
   "metadata": {},
   "outputs": [
    {
     "name": "stdout",
     "output_type": "stream",
     "text": [
      "hello world\n"
     ]
    }
   ],
   "source": [
    "print('hello world')"
   ]
  },
  {
   "cell_type": "code",
   "execution_count": null,
   "metadata": {},
   "outputs": [],
   "source": []
  }
 ],
 "metadata": {
  "kernelspec": {
   "display_name": "Python 3 (ipykernel)",
   "language": "python",
   "name": "python3"
  },
  "language_info": {
   "codemirror_mode": {
    "name": "ipython",
    "version": 3
   },
   "file_extension": ".py",
   "mimetype": "text/x-python",
   "name": "python",
   "nbconvert_exporter": "python",
   "pygments_lexer": "ipython3",
   "version": "3.12.8"
  }
 },
 "nbformat": 4,
 "nbformat_minor": 4
}
